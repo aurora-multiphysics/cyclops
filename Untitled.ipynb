{
 "cells": [
  {
   "cell_type": "code",
   "execution_count": 1,
   "id": "38ed51c6-b400-4d2a-a178-c65deb587625",
   "metadata": {},
   "outputs": [
    {
     "name": "stdout",
     "output_type": "stream",
     "text": [
      "['/home/cbyers/projects/working_branches/cyclops', '/usr/lib/python311.zip', '/usr/lib/python3.11', '/usr/lib/python3.11/lib-dynload', '', '/home/cbyers/projects/cyclops/venv/lib/python3.11/site-packages']\n",
      "<meshio mesh object>\n",
      "  Number of points: 87200\n",
      "  Number of cells:\n",
      "    hexahedron27: 2016\n",
      "    hexahedron27: 3360\n",
      "    hexahedron27: 4704\n",
      "  Point sets: right, top, left, , centre_x_bottom_y_back_z, centre_x_bottom_y_front_z, left_x_bottom_y_centre_z, right_x_bottom_y_centre_z\n",
      "  Point data: disp_x, disp_y, disp_z, temperature\n",
      "  Cell data: vonmises_stress\n",
      "<cyclops.sim_reader.MeshReader object at 0x7feb0a067d50>\n"
     ]
    }
   ],
   "source": [
    "%matplotlib inline\n",
    "import sys\n",
    "print(sys.path)\n",
    "#sys.path.append(\"/home/cbyers/projects/working_branches/cyclops/tutorial\")\n",
    "import numpy as np\n",
    "\n",
    "from cyclops.sim_reader import MeshReader, Unfolder\n",
    "from cyclops.object_reader import PickleManager\n",
    "from cyclops.regressors import LModel, CSModel\n",
    "from cyclops.fields import VectorField\n",
    "\n",
    "# Define the necessary objects\n",
    "reader = MeshReader(\"/home/cbyers/projects/working_branches/cyclops/tutorials/data/monoblock_out.e\")\n",
    "#reader_new = MeshReader(\"data/mono.e\")\n",
    "print(reader)\n",
    "pickle_manager = PickleManager()\n",
    "unfolder = Unfolder()"
   ]
  },
  {
   "cell_type": "code",
   "execution_count": 2,
   "id": "eaa45226-1acd-4e8b-b3bb-c64fbb52adb1",
   "metadata": {},
   "outputs": [
    {
     "name": "stdout",
     "output_type": "stream",
     "text": [
      "right\n",
      "<class 'numpy.ndarray'>\n",
      "[[ 5.42377424e-05  3.28911344e-05 -2.36492004e-05]\n",
      " [ 5.43988560e-05  3.49743114e-05 -1.95260568e-05]\n",
      " [ 5.43301892e-05  3.39904317e-05 -2.15822030e-05]\n",
      " ...\n",
      " [ 9.36166119e-05  7.56636920e-05  4.08665791e-05]\n",
      " [ 9.10786507e-05  7.06711488e-05  4.32006640e-05]\n",
      " [ 9.11093409e-05  7.20019583e-05  3.95953852e-05]]\n",
      "<cyclops.fields.VectorField object at 0x7feb888e9390>\n"
     ]
    },
    {
     "ename": "Exception",
     "evalue": "Input data should be a numpy array of shape (-1, 2).",
     "output_type": "error",
     "traceback": [
      "\u001b[0;31m---------------------------------------------------------------------------\u001b[0m",
      "\u001b[0;31mException\u001b[0m                                 Traceback (most recent call last)",
      "Cell \u001b[0;32mIn[2], line 21\u001b[0m\n\u001b[1;32m     19\u001b[0m disp_field \u001b[38;5;241m=\u001b[39m VectorField(LModel, bounds)\n\u001b[1;32m     20\u001b[0m \u001b[38;5;28mprint\u001b[39m(disp_field)\n\u001b[0;32m---> 21\u001b[0m \u001b[43mdisp_field\u001b[49m\u001b[38;5;241;43m.\u001b[39;49m\u001b[43mfit_model\u001b[49m\u001b[43m(\u001b[49m\u001b[43mpos_3D\u001b[49m\u001b[43m,\u001b[49m\u001b[43m \u001b[49m\u001b[43mdisp\u001b[49m\u001b[43m)\u001b[49m\n\u001b[1;32m     22\u001b[0m \u001b[38;5;28mprint\u001b[39m(disp_field)\n\u001b[1;32m     24\u001b[0m \u001b[38;5;66;03m# Save the simulation data\u001b[39;00m\n",
      "File \u001b[0;32m~/projects/cyclops/venv/lib/python3.11/site-packages/cyclops/fields.py:127\u001b[0m, in \u001b[0;36mVectorField.fit_model\u001b[0;34m(self, known_pos, known_vectors)\u001b[0m\n\u001b[1;32m    125\u001b[0m \u001b[38;5;28;01mfor\u001b[39;00m i \u001b[38;5;129;01min\u001b[39;00m \u001b[38;5;28mrange\u001b[39m(vector_dim):\n\u001b[1;32m    126\u001b[0m     regressor \u001b[38;5;241m=\u001b[39m \u001b[38;5;28mself\u001b[39m\u001b[38;5;241m.\u001b[39m_regression_type(\u001b[38;5;28mself\u001b[39m\u001b[38;5;241m.\u001b[39m_num_dim)\n\u001b[0;32m--> 127\u001b[0m     \u001b[43mregressor\u001b[49m\u001b[38;5;241;43m.\u001b[39;49m\u001b[43mfit\u001b[49m\u001b[43m(\u001b[49m\u001b[43mknown_pos\u001b[49m\u001b[43m,\u001b[49m\u001b[43m \u001b[49m\u001b[43mknown_vectors\u001b[49m\u001b[43m[\u001b[49m\u001b[43m:\u001b[49m\u001b[43m,\u001b[49m\u001b[43m \u001b[49m\u001b[43mi\u001b[49m\u001b[43m]\u001b[49m\u001b[38;5;241;43m.\u001b[39;49m\u001b[43mreshape\u001b[49m\u001b[43m(\u001b[49m\u001b[38;5;241;43m-\u001b[39;49m\u001b[38;5;241;43m1\u001b[39;49m\u001b[43m,\u001b[49m\u001b[43m \u001b[49m\u001b[38;5;241;43m1\u001b[39;49m\u001b[43m)\u001b[49m\u001b[43m)\u001b[49m\n\u001b[1;32m    128\u001b[0m     \u001b[38;5;28mself\u001b[39m\u001b[38;5;241m.\u001b[39m_regressors\u001b[38;5;241m.\u001b[39mappend(regressor)\n",
      "File \u001b[0;32m~/projects/cyclops/venv/lib/python3.11/site-packages/cyclops/regressors.py:209\u001b[0m, in \u001b[0;36mLModel.fit\u001b[0;34m(self, train_x, train_y)\u001b[0m\n\u001b[1;32m    199\u001b[0m \u001b[38;5;28;01mdef\u001b[39;00m \u001b[38;5;21mfit\u001b[39m(\n\u001b[1;32m    200\u001b[0m     \u001b[38;5;28mself\u001b[39m, train_x: np\u001b[38;5;241m.\u001b[39mndarray[\u001b[38;5;28mfloat\u001b[39m], train_y: np\u001b[38;5;241m.\u001b[39mndarray[\u001b[38;5;28mfloat\u001b[39m]\n\u001b[1;32m    201\u001b[0m ) \u001b[38;5;241m-\u001b[39m\u001b[38;5;241m>\u001b[39m \u001b[38;5;28;01mNone\u001b[39;00m:\n\u001b[1;32m    202\u001b[0m \u001b[38;5;250m    \u001b[39m\u001b[38;5;124;03m\"\"\"Fit the model to some training data.\u001b[39;00m\n\u001b[1;32m    203\u001b[0m \n\u001b[1;32m    204\u001b[0m \u001b[38;5;124;03m    Args:\u001b[39;00m\n\u001b[0;32m   (...)\u001b[0m\n\u001b[1;32m    207\u001b[0m \u001b[38;5;124;03m        train_y (np.ndarray[float]): n by 1 array of n training outputs.\u001b[39;00m\n\u001b[1;32m    208\u001b[0m \u001b[38;5;124;03m    \"\"\"\u001b[39;00m\n\u001b[0;32m--> 209\u001b[0m     scaled_x \u001b[38;5;241m=\u001b[39m \u001b[38;5;28;43mself\u001b[39;49m\u001b[38;5;241;43m.\u001b[39;49m\u001b[43mprepare_fit\u001b[49m\u001b[43m(\u001b[49m\u001b[43mtrain_x\u001b[49m\u001b[43m,\u001b[49m\u001b[43m \u001b[49m\u001b[43mtrain_y\u001b[49m\u001b[43m)\u001b[49m\n\u001b[1;32m    210\u001b[0m     \u001b[38;5;28mself\u001b[39m\u001b[38;5;241m.\u001b[39m_regressor \u001b[38;5;241m=\u001b[39m LinearNDInterpolator(\n\u001b[1;32m    211\u001b[0m         scaled_x, train_y, fill_value\u001b[38;5;241m=\u001b[39mnp\u001b[38;5;241m.\u001b[39mmean(train_y)\n\u001b[1;32m    212\u001b[0m     )\n",
      "File \u001b[0;32m~/projects/cyclops/venv/lib/python3.11/site-packages/cyclops/regressors.py:65\u001b[0m, in \u001b[0;36mRegressionModel.prepare_fit\u001b[0;34m(self, train_x, train_y)\u001b[0m\n\u001b[1;32m     51\u001b[0m \u001b[38;5;28;01mdef\u001b[39;00m \u001b[38;5;21mprepare_fit\u001b[39m(\n\u001b[1;32m     52\u001b[0m     \u001b[38;5;28mself\u001b[39m, train_x: np\u001b[38;5;241m.\u001b[39mndarray[\u001b[38;5;28mfloat\u001b[39m], train_y: np\u001b[38;5;241m.\u001b[39mndarray[\u001b[38;5;28mfloat\u001b[39m]\n\u001b[1;32m     53\u001b[0m ) \u001b[38;5;241m-\u001b[39m\u001b[38;5;241m>\u001b[39m np\u001b[38;5;241m.\u001b[39mndarray[\u001b[38;5;28mfloat\u001b[39m]:\n\u001b[1;32m     54\u001b[0m \u001b[38;5;250m    \u001b[39m\u001b[38;5;124;03m\"\"\"Check training data dimensions and normalise.\u001b[39;00m\n\u001b[1;32m     55\u001b[0m \n\u001b[1;32m     56\u001b[0m \u001b[38;5;124;03m    Args:\u001b[39;00m\n\u001b[0;32m   (...)\u001b[0m\n\u001b[1;32m     63\u001b[0m \u001b[38;5;124;03m            dimension d.\u001b[39;00m\n\u001b[1;32m     64\u001b[0m \u001b[38;5;124;03m    \"\"\"\u001b[39;00m\n\u001b[0;32m---> 65\u001b[0m     \u001b[38;5;28;43mself\u001b[39;49m\u001b[38;5;241;43m.\u001b[39;49m\u001b[43mcheck_dim\u001b[49m\u001b[43m(\u001b[49m\u001b[38;5;28;43mlen\u001b[39;49m\u001b[43m(\u001b[49m\u001b[43mtrain_x\u001b[49m\u001b[43m[\u001b[49m\u001b[38;5;241;43m0\u001b[39;49m\u001b[43m]\u001b[49m\u001b[43m)\u001b[49m\u001b[43m,\u001b[49m\u001b[43m \u001b[49m\u001b[38;5;28;43mself\u001b[39;49m\u001b[38;5;241;43m.\u001b[39;49m\u001b[43m_x_dim\u001b[49m\u001b[43m,\u001b[49m\u001b[43m \u001b[49m\u001b[38;5;124;43m\"\u001b[39;49m\u001b[38;5;124;43mInput\u001b[39;49m\u001b[38;5;124;43m\"\u001b[39;49m\u001b[43m)\u001b[49m\n\u001b[1;32m     66\u001b[0m     \u001b[38;5;28mself\u001b[39m\u001b[38;5;241m.\u001b[39mcheck_length(\u001b[38;5;28mlen\u001b[39m(train_x))\n\u001b[1;32m     67\u001b[0m     \u001b[38;5;28;01mif\u001b[39;00m \u001b[38;5;28mtype\u001b[39m(train_y[\u001b[38;5;241m0\u001b[39m]) \u001b[38;5;241m!=\u001b[39m np\u001b[38;5;241m.\u001b[39mndarray:\n",
      "File \u001b[0;32m~/projects/cyclops/venv/lib/python3.11/site-packages/cyclops/regressors.py:104\u001b[0m, in \u001b[0;36mRegressionModel.check_dim\u001b[0;34m(self, dim, correct_dim, data_name)\u001b[0m\n\u001b[1;32m     93\u001b[0m \u001b[38;5;250m\u001b[39m\u001b[38;5;124;03m\"\"\"Check the dimensions/features are equal to a specified number.\u001b[39;00m\n\u001b[1;32m     94\u001b[0m \n\u001b[1;32m     95\u001b[0m \u001b[38;5;124;03mArgs:\u001b[39;00m\n\u001b[0;32m   (...)\u001b[0m\n\u001b[1;32m    101\u001b[0m \u001b[38;5;124;03m    Exception: error to explain user's mistake.\u001b[39;00m\n\u001b[1;32m    102\u001b[0m \u001b[38;5;124;03m\"\"\"\u001b[39;00m\n\u001b[1;32m    103\u001b[0m \u001b[38;5;28;01mif\u001b[39;00m dim \u001b[38;5;241m!=\u001b[39m correct_dim:\n\u001b[0;32m--> 104\u001b[0m     \u001b[38;5;28;01mraise\u001b[39;00m \u001b[38;5;167;01mException\u001b[39;00m(\n\u001b[1;32m    105\u001b[0m         data_name\n\u001b[1;32m    106\u001b[0m         \u001b[38;5;241m+\u001b[39m \u001b[38;5;124m\"\u001b[39m\u001b[38;5;124m data should be a numpy array of shape (-1, \u001b[39m\u001b[38;5;124m\"\u001b[39m\n\u001b[1;32m    107\u001b[0m         \u001b[38;5;241m+\u001b[39m \u001b[38;5;28mstr\u001b[39m(correct_dim)\n\u001b[1;32m    108\u001b[0m         \u001b[38;5;241m+\u001b[39m \u001b[38;5;124m\"\u001b[39m\u001b[38;5;124m).\u001b[39m\u001b[38;5;124m\"\u001b[39m\n\u001b[1;32m    109\u001b[0m     )\n",
      "\u001b[0;31mException\u001b[0m: Input data should be a numpy array of shape (-1, 2)."
     ]
    }
   ],
   "source": [
    "# Read the simulation data\n",
    "sensor_region = \"right\"\n",
    "print(sensor_region)\n",
    "pos_3D = reader.read_pos(sensor_region)\n",
    "print(type(pos_3D))\n",
    "#pos_2D = unfolder.compress_2D(pos_3D)\n",
    "#print(type(pos_2D))\n",
    "bounds = unfolder.find_bounds(pos_3D)\n",
    "grid = unfolder.generate_grid(bounds, 30, 30)\n",
    "\n",
    "disp = np.array(\n",
    "    [\n",
    "        reader.read_scalar(sensor_region, \"disp_x\"),\n",
    "        reader.read_scalar(sensor_region, \"disp_y\"),\n",
    "        reader.read_scalar(sensor_region, \"disp_z\"),\n",
    "    ]\n",
    ").T\n",
    "print(disp)\n",
    "disp_field = VectorField(LModel, bounds)\n",
    "print(disp_field)\n",
    "disp_field.fit_model(pos_3D, disp)\n",
    "print(disp_field)\n",
    "\n",
    "# Save the simulation data\n",
    "pickle_manager.save_file(\"results/disp_plane_field.pickle\", disp_field)\n",
    "pickle_manager.save_file(\"results/disp_plane_points.pickle\", grid)"
   ]
  },
  {
   "cell_type": "code",
   "execution_count": null,
   "id": "978a94f8-77ac-45a6-8ce9-61b0219b6e20",
   "metadata": {},
   "outputs": [],
   "source": [
    " Convert the 2D field to a 1D line\n",
    "import matplotlib.pyplot as plt\n",
    "pos1 = (bounds[0][0], bounds[0][1])\n",
    "pos2 = (bounds[0][0], bounds[1][1])\n",
    "\n",
    "line_2D = unfolder.generate_line(pos1, pos2, 50)\n",
    "line_disps = disp_field.predict_values(line_2D)\n",
    "line_1D = unfolder.compress_1D(line_2D)\n",
    "print(line_1D)\n",
    "\n",
    "bounds_1D = np.array([line_1D[0], line_1D[-1]])\n",
    "new_line_field = VectorField(CSModel, bounds_1D)\n",
    "new_line_field.fit_model(line_1D, line_disps)\n",
    "\n",
    "# Save the new 1D line field\n",
    "pickle_manager.save_file(\"results/disp_line_field.pickle\", new_line_field)\n",
    "pickle_manager.save_file(\"results/disp_line_points.pickle\", line_1D)"
   ]
  },
  {
   "cell_type": "code",
   "execution_count": null,
   "id": "e4e028ec-0e32-46fc-8ea7-20adc3a9349c",
   "metadata": {},
   "outputs": [],
   "source": [
    "from matplotlib import pyplot as plt \n",
    "\n",
    "plt.scatter(SD_pca[:, 0], SD_pca[:, 1], alpha=0.8)\n",
    "plt.plot(pos_2D)\n",
    "#plt.scatter(SD_pca)\n",
    "\n",
    "#fig, (ax0, ax1, ax2) = plt.subplots(nrows=1, ncols=3, sharex=True,\n",
    "#                                    figsize=(12, 6))\n",
    "#ax0.set_title('PCA')\n",
    "#ax0.plot(SD_pca)\n",
    "#ax1.set_title('Incremental PCA')\n",
    "#ax1.plot(SD_incrml_pca)\n",
    "#ax2.set_title('Kernel PCA')\n",
    "#ax2.plot(SD_kernel_pca)\n",
    "\n",
    "#fig.suptitle('Standard Scaling applied')\n",
    "plt.show()"
   ]
  }
 ],
 "metadata": {
  "kernelspec": {
   "display_name": "venv",
   "language": "python",
   "name": "venv"
  },
  "language_info": {
   "codemirror_mode": {
    "name": "ipython",
    "version": 3
   },
   "file_extension": ".py",
   "mimetype": "text/x-python",
   "name": "python",
   "nbconvert_exporter": "python",
   "pygments_lexer": "ipython3",
   "version": "3.11.2"
  }
 },
 "nbformat": 4,
 "nbformat_minor": 5
}
