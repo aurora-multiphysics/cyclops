{
 "cells": [
  {
   "cell_type": "markdown",
   "metadata": {},
   "source": [
    "# 1.2 Reading a 2D vector field from a simulation"
   ]
  },
  {
   "cell_type": "markdown",
   "metadata": {},
   "source": [
    "First we define the objects we will use - the mesh reader (to read the mesh from the FEM file), the pickle manager (to save the mesh data that we want to analyse), and the unfolder (to manage the mesh)."
   ]
  },
  {
   "cell_type": "code",
   "execution_count": 4,
   "metadata": {},
   "outputs": [
    {
     "name": "stdout",
     "output_type": "stream",
     "text": [
      "Loaded mesh:  <meshio mesh object>\n",
      "  Number of points: 87200\n",
      "  Number of cells:\n",
      "    hexahedron27: 2016\n",
      "    hexahedron27: 3360\n",
      "    hexahedron27: 4704\n",
      "  Point sets: right, top, left, , centre_x_bottom_y_back_z, centre_x_bottom_y_front_z, left_x_bottom_y_centre_z, right_x_bottom_y_centre_z\n",
      "  Point data: disp_x, disp_y, disp_z, temperature\n",
      "  Cell data: vonmises_stress\n",
      "<class 'cyclops.sim_reader.MeshReader'>\n"
     ]
    }
   ],
   "source": [
    "import numpy as np\n",
    "import sys\n",
    "sys.path.insert(0,'/home/cbyers/projects/working_branches/cyclops/src')\n",
    "from cyclops.sim_reader import MeshReader, Unfolder\n",
    "from cyclops.object_reader import PickleManager\n",
    "from cyclops.regressors import LModel, CSModel\n",
    "from cyclops.fields import VectorField\n",
    "\n",
    "# Define the necessary objects\n",
    "reader = MeshReader(\"data/monoblock_out.e\")\n",
    "print(type(reader))\n",
    "pickle_manager = PickleManager()\n",
    "unfolder = Unfolder()"
   ]
  },
  {
   "cell_type": "markdown",
   "metadata": {},
   "source": [
    "Next we read the simulation data. Change the sensor_region from `right` to whatever you called the region where sensors can be placed in your FEM file.\n",
    "\n",
    "We get an array of 3D positions of all the nodes in that region in the mesh. In the monoblock file they all have x=0, but in your file they could all have z=5 or y=3 or whatever. The `compress_2D` function removes the x components so that the array becomes an array of 2D positions. You will have to redefine this function if you are analysing a different face or surface.\n",
    "\n",
    "The way the mesh reader works is if you have a vector `disp` then it splits it into 3 scalars `disp_x`, `disp_y`, and `disp_z`. You can find out the names of your vector by looking at the mesh info that is output by the code above (if you use a vector called something other than `disp`). We read the components of the vector and then join them together into a `VectorField`.\n",
    "\n",
    "We then save this field."
   ]
  },
  {
   "cell_type": "code",
   "execution_count": 2,
   "metadata": {
    "scrolled": true
   },
   "outputs": [
    {
     "name": "stdout",
     "output_type": "stream",
     "text": [
      "now reading positions in...\n",
      "[[0.     0.0135]\n",
      " [0.001  0.0135]\n",
      " [0.0005 0.0135]\n",
      " ...\n",
      " [0.0115 0.0215]\n",
      " [0.012  0.021 ]\n",
      " [0.0115 0.021 ]]\n",
      "[[ 5.42377424e-05  3.28911344e-05 -2.36492004e-05]\n",
      " [ 5.43988560e-05  3.49743114e-05 -1.95260568e-05]\n",
      " [ 5.43301892e-05  3.39904317e-05 -2.15822030e-05]\n",
      " ...\n",
      " [ 9.36166119e-05  7.56636920e-05  4.08665791e-05]\n",
      " [ 9.10786507e-05  7.06711488e-05  4.32006640e-05]\n",
      " [ 9.11093409e-05  7.20019583e-05  3.95953852e-05]]\n",
      "<cyclops.regressors.LModel object at 0x7f9cc700d010>\n",
      "known_pos [[0.     0.0135]\n",
      " [0.001  0.0135]\n",
      " [0.0005 0.0135]\n",
      " ...\n",
      " [0.0115 0.0215]\n",
      " [0.012  0.021 ]\n",
      " [0.0115 0.021 ]]\n",
      "known_vectors [5.42377424e-05 5.43988560e-05 5.43301892e-05 ... 9.36166119e-05\n",
      " 9.10786507e-05 9.11093409e-05]\n",
      "1125 1125\n",
      "X shape is  (1125, 2)  Y shape is  (1125, 3)\n",
      "<cyclops.regressors.LModel object at 0x7f9cc7613890>\n",
      "known_pos [[0.     0.0135]\n",
      " [0.001  0.0135]\n",
      " [0.0005 0.0135]\n",
      " ...\n",
      " [0.0115 0.0215]\n",
      " [0.012  0.021 ]\n",
      " [0.0115 0.021 ]]\n",
      "known_vectors [3.28911344e-05 3.49743114e-05 3.39904317e-05 ... 7.56636920e-05\n",
      " 7.06711488e-05 7.20019583e-05]\n",
      "1125 1125\n",
      "X shape is  (1125, 2)  Y shape is  (1125, 3)\n",
      "<cyclops.regressors.LModel object at 0x7f9cc700d9d0>\n",
      "known_pos [[0.     0.0135]\n",
      " [0.001  0.0135]\n",
      " [0.0005 0.0135]\n",
      " ...\n",
      " [0.0115 0.0215]\n",
      " [0.012  0.021 ]\n",
      " [0.0115 0.021 ]]\n",
      "known_vectors [-2.36492004e-05 -1.95260568e-05 -2.15822030e-05 ...  4.08665791e-05\n",
      "  4.32006640e-05  3.95953852e-05]\n",
      "1125 1125\n",
      "X shape is  (1125, 2)  Y shape is  (1125, 3)\n"
     ]
    }
   ],
   "source": [
    "# Read the simulation data\n",
    "sensor_region = \"right\"\n",
    "pos_3D = reader.read_pos(sensor_region)\n",
    "pos_2D = unfolder.compress_2D(pos_3D)\n",
    "bounds = unfolder.find_bounds(pos_2D)\n",
    "grid = unfolder.generate_grid(bounds, 30, 30)\n",
    "\n",
    "disp = np.array(\n",
    "    [\n",
    "        reader.read_scalar(sensor_region, \"disp_x\"),\n",
    "        reader.read_scalar(sensor_region, \"disp_y\"),\n",
    "        reader.read_scalar(sensor_region, \"disp_z\"),\n",
    "    ]\n",
    ").T\n",
    "print(pos_2D)\n",
    "print(disp)\n",
    "disp_field = VectorField(LModel, bounds)\n",
    "disp_field.fit_model(pos_2D, disp)\n",
    "\n",
    "# Save the simulation data\n",
    "pickle_manager.save_file(\"results/disp_plane_field.pickle\", disp_field)\n",
    "pickle_manager.save_file(\"results/disp_plane_points.pickle\", grid)"
   ]
  },
  {
   "cell_type": "markdown",
   "metadata": {},
   "source": [
    "The displacement field is **NOT** uniform in the horizontal direction, but it doesn't change much and we can pretend that it is uniform if we want to get a 1D vector field. The code below considers the 1D strip along the edge of the field."
   ]
  },
  {
   "cell_type": "code",
   "execution_count": 3,
   "metadata": {},
   "outputs": [
    {
     "name": "stdout",
     "output_type": "stream",
     "text": [
      "<cyclops.regressors.CSModel object at 0x7f9cc737f950>\n",
      "known_pos [[0.        ]\n",
      " [0.00071429]\n",
      " [0.00142857]\n",
      " [0.00214286]\n",
      " [0.00285714]\n",
      " [0.00357143]\n",
      " [0.00428571]\n",
      " [0.005     ]\n",
      " [0.00571429]\n",
      " [0.00642857]\n",
      " [0.00714286]\n",
      " [0.00785714]\n",
      " [0.00857143]\n",
      " [0.00928571]\n",
      " [0.01      ]\n",
      " [0.01071429]\n",
      " [0.01142857]\n",
      " [0.01214286]\n",
      " [0.01285714]\n",
      " [0.01357143]\n",
      " [0.01428571]\n",
      " [0.015     ]\n",
      " [0.01571429]\n",
      " [0.01642857]\n",
      " [0.01714286]\n",
      " [0.01785714]\n",
      " [0.01857143]\n",
      " [0.01928571]\n",
      " [0.02      ]\n",
      " [0.02071429]\n",
      " [0.02142857]\n",
      " [0.02214286]\n",
      " [0.02285714]\n",
      " [0.02357143]\n",
      " [0.02428571]\n",
      " [0.025     ]\n",
      " [0.02571429]\n",
      " [0.02642857]\n",
      " [0.02714286]\n",
      " [0.02785714]\n",
      " [0.02857143]\n",
      " [0.02928571]\n",
      " [0.03      ]\n",
      " [0.03071429]\n",
      " [0.03142857]\n",
      " [0.03214286]\n",
      " [0.03285714]\n",
      " [0.03357143]\n",
      " [0.03428571]\n",
      " [0.035     ]]\n",
      "known_vectors [ 1.32301275e-05  0.00000000e+00 -4.02898445e-06  1.32873703e-05\n",
      "  3.39280895e-07 -4.01723258e-06  1.34161230e-05  6.81950742e-07\n",
      " -3.98909115e-06  1.36172239e-05  1.02987064e-06 -3.94484803e-06\n",
      "  1.38972921e-05  1.38578276e-06 -3.88362629e-06  1.42850011e-05\n",
      "  1.76144076e-06 -3.80529861e-06  1.47456926e-05  2.15501817e-06\n",
      " -3.71636297e-06  1.52789161e-05  2.57012929e-06 -3.61928454e-06\n",
      "  1.58951017e-05  3.01608121e-06 -3.51719299e-06  1.66063635e-05\n",
      "  3.50952347e-06 -3.41283602e-06  1.73802290e-05  4.04580853e-06\n",
      " -3.31357807e-06  1.82126262e-05  4.62950912e-06 -3.22227941e-06\n",
      "  1.91088383e-05  5.27992831e-06 -3.14530642e-06  2.00484348e-05\n",
      "  6.00979490e-06 -3.09583812e-06  2.10066526e-05  6.80528128e-06\n",
      " -3.07455715e-06  2.19726371e-05  7.66645285e-06 -3.08582765e-06\n",
      "  2.29204961e-05  8.60744237e-06 -3.14933294e-06  2.38269011e-05\n",
      "  9.61331565e-06 -3.27805434e-06  2.46864964e-05  1.06575105e-05\n",
      " -3.46465418e-06  2.54936312e-05  1.17296463e-05 -3.71322826e-06\n",
      "  2.62295288e-05  1.28101453e-05 -4.06225203e-06  2.69185630e-05\n",
      "  1.38741056e-05 -4.49728369e-06  2.75873471e-05  1.49075775e-05\n",
      " -5.01102122e-06  2.82512931e-05  1.59004454e-05 -5.60592947e-06\n",
      "  2.89552402e-05  1.68336381e-05 -6.31703934e-06  2.97375060e-05\n",
      "  1.77175335e-05 -7.11269188e-06  3.06108267e-05  1.85670044e-05\n",
      " -7.98562142e-06  3.15909139e-05  1.93917810e-05 -8.93477638e-06\n",
      "  3.27847882e-05  2.02061192e-05 -9.99104387e-06  3.41375163e-05\n",
      "  2.10436761e-05 -1.11165129e-05  3.56546133e-05  2.19185322e-05\n",
      " -1.23058493e-05  3.73556519e-05  2.28512475e-05 -1.35572641e-05\n",
      "  3.93155168e-05  2.39023115e-05 -1.48946589e-05  4.14496611e-05\n",
      "  2.50632370e-05 -1.62802539e-05  4.37569452e-05  2.63454613e-05\n",
      " -1.77146083e-05  4.62623343e-05  2.77843162e-05 -1.92078916e-05\n",
      "  4.89863706e-05  2.94526897e-05 -2.07576382e-05  5.18587065e-05\n",
      "  3.13052377e-05 -2.23506208e-05  5.48622887e-05  3.33337196e-05\n",
      " -2.39827159e-05  5.80348838e-05  3.56326821e-05 -2.56661308e-05\n",
      "  6.13355992e-05  3.81801582e-05 -2.73936325e-05  6.47548037e-05\n",
      "  4.10101677e-05 -2.91691833e-05  6.82584129e-05  4.40984142e-05\n",
      " -3.09839760e-05  7.18419141e-05  4.75174901e-05 -3.28448231e-05\n",
      "  7.54701281e-05  5.12166296e-05 -3.47418757e-05  7.91221648e-05\n",
      "  5.52472497e-05 -3.66737836e-05  8.27725663e-05  5.95847853e-05\n",
      " -3.86319533e-05  8.64031622e-05  6.42195226e-05 -4.06107381e-05\n",
      "  9.00025155e-05  6.91556532e-05 -4.26022416e-05  9.35852575e-05\n",
      "  7.43332477e-05 -4.45940141e-05]\n",
      "150 50\n"
     ]
    },
    {
     "ename": "ValueError",
     "evalue": "all the input array dimensions except for the concatenation axis must match exactly, but along dimension 0, the array at index 0 has size 50 and the array at index 1 has size 450",
     "output_type": "error",
     "traceback": [
      "\u001b[0;31m---------------------------------------------------------------------------\u001b[0m",
      "\u001b[0;31mValueError\u001b[0m                                Traceback (most recent call last)",
      "Cell \u001b[0;32mIn[3], line 10\u001b[0m\n\u001b[1;32m      8\u001b[0m bounds_1D \u001b[38;5;241m=\u001b[39m np\u001b[38;5;241m.\u001b[39marray([line_1D[\u001b[38;5;241m0\u001b[39m], line_1D[\u001b[38;5;241m-\u001b[39m\u001b[38;5;241m1\u001b[39m]])\n\u001b[1;32m      9\u001b[0m new_line_field \u001b[38;5;241m=\u001b[39m VectorField(CSModel, bounds_1D)\n\u001b[0;32m---> 10\u001b[0m \u001b[43mnew_line_field\u001b[49m\u001b[38;5;241;43m.\u001b[39;49m\u001b[43mfit_model\u001b[49m\u001b[43m(\u001b[49m\u001b[43mline_1D\u001b[49m\u001b[43m,\u001b[49m\u001b[43m \u001b[49m\u001b[43mline_disps\u001b[49m\u001b[43m)\u001b[49m\n\u001b[1;32m     12\u001b[0m \u001b[38;5;66;03m# Save the new 1D line field\u001b[39;00m\n\u001b[1;32m     13\u001b[0m pickle_manager\u001b[38;5;241m.\u001b[39msave_file(\u001b[38;5;124m\"\u001b[39m\u001b[38;5;124mresults/disp_line_field.pickle\u001b[39m\u001b[38;5;124m\"\u001b[39m, new_line_field)\n",
      "File \u001b[0;32m~/projects/working_branches/cyclops/src/cyclops/fields.py:142\u001b[0m, in \u001b[0;36mVectorField.fit_model\u001b[0;34m(self, known_pos, known_vectors)\u001b[0m\n\u001b[1;32m    138\u001b[0m \u001b[38;5;66;03m#if len(known_vectors[:, i]) % 2 != 0:\u001b[39;00m\n\u001b[1;32m    139\u001b[0m  \u001b[38;5;66;03m#   for j in range(len(known_vectors)):\u001b[39;00m\n\u001b[1;32m    140\u001b[0m   \u001b[38;5;66;03m#      np.delete(known_vectors, [j,-1])\u001b[39;00m\n\u001b[1;32m    141\u001b[0m \u001b[38;5;28mprint\u001b[39m(\u001b[38;5;28mlen\u001b[39m(known_vectors), \u001b[38;5;28mlen\u001b[39m(known_pos))\n\u001b[0;32m--> 142\u001b[0m \u001b[43mregressor\u001b[49m\u001b[38;5;241;43m.\u001b[39;49m\u001b[43mfit\u001b[49m\u001b[43m(\u001b[49m\u001b[43mknown_pos\u001b[49m\u001b[43m,\u001b[49m\u001b[43m \u001b[49m\u001b[43mknown_vectors\u001b[49m\u001b[43m)\u001b[49m\u001b[38;5;66;03m#.reshape(5050, self._num_dim))\u001b[39;00m\n\u001b[1;32m    143\u001b[0m \u001b[38;5;28mself\u001b[39m\u001b[38;5;241m.\u001b[39m_regressors\u001b[38;5;241m.\u001b[39mappend(regressor)\n",
      "File \u001b[0;32m~/projects/working_branches/cyclops/src/cyclops/regressors.py:633\u001b[0m, in \u001b[0;36mCSModel.fit\u001b[0;34m(self, train_x, train_y)\u001b[0m\n\u001b[1;32m    625\u001b[0m \u001b[38;5;250m\u001b[39m\u001b[38;5;124;03m\"\"\"Fit the model to some training data.\u001b[39;00m\n\u001b[1;32m    626\u001b[0m \n\u001b[1;32m    627\u001b[0m \u001b[38;5;124;03mArgs:\u001b[39;00m\n\u001b[0;32m   (...)\u001b[0m\n\u001b[1;32m    630\u001b[0m \u001b[38;5;124;03m    train_y (np.ndarray[float]): n by 1 array of n training outputs.\u001b[39;00m\n\u001b[1;32m    631\u001b[0m \u001b[38;5;124;03m\"\"\"\u001b[39;00m\n\u001b[1;32m    632\u001b[0m scaled_x \u001b[38;5;241m=\u001b[39m \u001b[38;5;28mself\u001b[39m\u001b[38;5;241m.\u001b[39mprepare_fit(train_x, train_y)\n\u001b[0;32m--> 633\u001b[0m pos_val_matrix \u001b[38;5;241m=\u001b[39m \u001b[43mnp\u001b[49m\u001b[38;5;241;43m.\u001b[39;49m\u001b[43mconcatenate\u001b[49m\u001b[43m(\u001b[49m\n\u001b[1;32m    634\u001b[0m \u001b[43m    \u001b[49m\u001b[43m(\u001b[49m\u001b[43mscaled_x\u001b[49m\u001b[43m,\u001b[49m\u001b[43m \u001b[49m\u001b[43mtrain_y\u001b[49m\u001b[38;5;241;43m.\u001b[39;49m\u001b[43mreshape\u001b[49m\u001b[43m(\u001b[49m\u001b[38;5;241;43m-\u001b[39;49m\u001b[38;5;241;43m1\u001b[39;49m\u001b[43m,\u001b[49m\u001b[43m \u001b[49m\u001b[38;5;241;43m1\u001b[39;49m\u001b[43m)\u001b[49m\u001b[43m)\u001b[49m\u001b[43m,\u001b[49m\u001b[43m \u001b[49m\u001b[43maxis\u001b[49m\u001b[38;5;241;43m=\u001b[39;49m\u001b[38;5;241;43m1\u001b[39;49m\n\u001b[1;32m    635\u001b[0m \u001b[43m\u001b[49m\u001b[43m)\u001b[49m\n\u001b[1;32m    636\u001b[0m pos_val_matrix \u001b[38;5;241m=\u001b[39m pos_val_matrix[pos_val_matrix[:, \u001b[38;5;241m0\u001b[39m]\u001b[38;5;241m.\u001b[39margsort()]\n\u001b[1;32m    638\u001b[0m \u001b[38;5;28mself\u001b[39m\u001b[38;5;241m.\u001b[39m_regressor \u001b[38;5;241m=\u001b[39m CubicSpline(\n\u001b[1;32m    639\u001b[0m     pos_val_matrix[:, \u001b[38;5;241m0\u001b[39m], pos_val_matrix[:, \u001b[38;5;241m1\u001b[39m]\n\u001b[1;32m    640\u001b[0m )\n",
      "\u001b[0;31mValueError\u001b[0m: all the input array dimensions except for the concatenation axis must match exactly, but along dimension 0, the array at index 0 has size 50 and the array at index 1 has size 450"
     ]
    }
   ],
   "source": [
    "# Convert the 2D field to a 1D line\n",
    "pos1 = (bounds[0][0], bounds[0][1])\n",
    "pos2 = (bounds[0][0], bounds[1][1])\n",
    "line_2D = unfolder.generate_line(pos1, pos2, 50)\n",
    "line_disps = disp_field.predict_values(line_2D)\n",
    "line_1D = unfolder.compress_1D(line_2D)\n",
    "\n",
    "bounds_1D = np.array([line_1D[0], line_1D[-1]])\n",
    "new_line_field = VectorField(CSModel, bounds_1D)\n",
    "new_line_field.fit_model(line_1D, line_disps)\n",
    "\n",
    "# Save the new 1D line field\n",
    "pickle_manager.save_file(\"results/disp_line_field.pickle\", new_line_field)\n",
    "pickle_manager.save_file(\"results/disp_line_points.pickle\", line_1D)"
   ]
  },
  {
   "cell_type": "code",
   "execution_count": null,
   "metadata": {},
   "outputs": [],
   "source": []
  }
 ],
 "metadata": {
  "kernelspec": {
   "display_name": "Python 3 (ipykernel)",
   "language": "python",
   "name": "python3"
  },
  "language_info": {
   "codemirror_mode": {
    "name": "ipython",
    "version": 3
   },
   "file_extension": ".py",
   "mimetype": "text/x-python",
   "name": "python",
   "nbconvert_exporter": "python",
   "pygments_lexer": "ipython3",
   "version": "3.11.2"
  },
  "vscode": {
   "interpreter": {
    "hash": "e7370f93d1d0cde622a1f8e1c04877d8463912d04d973331ad4851f04de6915a"
   }
  }
 },
 "nbformat": 4,
 "nbformat_minor": 4
}
